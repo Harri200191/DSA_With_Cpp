{
 "cells": [
  {
   "cell_type": "code",
   "execution_count": 3,
   "metadata": {},
   "outputs": [],
   "source": [
    "import numpy as np"
   ]
  },
  {
   "cell_type": "code",
   "execution_count": 31,
   "metadata": {},
   "outputs": [],
   "source": [
    "val = '''Student,OOP,CALD,LA,COMM,Isl,ED\n",
    "Student 1,23,67,90,12,45,78\n",
    "Student 2,56,34,78,90,23,67\n",
    "Student 3,89,56,78,34,90,12\n",
    "Student 4,45,78,23,67,12,56\n",
    "Student 5,78,23,45,90,67,34\n",
    "Student 6,12,90,56,78,34,23\n",
    "Student 7,34,45,12,56,23,78\n",
    "Student 8,67,89,23,45,78,56\n",
    "Student 9,90,12,45,78,56,67\n",
    "Student 10,23,78,56,12,90,45\n",
    "Student 11,45,67,12,34,56,90\n",
    "Student 12,78,56,90,23,12,45\n",
    "Student 13,34,23,67,45,78,56\n",
    "Student 14,67,90,45,56,23,78\n",
    "Student 15,12,45,78,67,90,34\n",
    "Student 16,56,67,23,90,12,78\n",
    "Student 17,78,12,34,23,45,67\n",
    "Student 18,90,34,56,78,67,12\n",
    "Student 19,23,78,12,45,56,90\n",
    "Student 20,45,56,23,78,90,34\n",
    "Student 21,78,45,67,12,34,56\n",
    "Student 22,12,23,90,67,45,78\n",
    "Student 23,34,90,56,78,67,23\n",
    "Student 24,67,56,12,34,45,90\n",
    "Student 25,90,34,78,12,56,67\n",
    "Student 26,23,45,56,67,78,90\n",
    "Student 27,45,78,34,56,23,67\n",
    "Student 28,78,67,90,12,45,56\n",
    "Student 29,90,56,23,34,67,45\n",
    "Student 30,12,23,67,78,56,45\n",
    "Student 31,34,12,56,90,45,67\n",
    "Student 32,67,56,45,34,23,78\n",
    "Student 33,90,45,23,67,78,56\n",
    "Student 34,23,78,12,56,90,45\n",
    "Student 35,45,67,34,12,23,78\n",
    "Student 36,78,23,56,90,12,67\n",
    "Student 37,12,67,56,23,78,45\n",
    "Student 38,34,45,78,56,12,67\n",
    "Student 39,67,56,45,78,23,12\n",
    "Student 40,90,45,78,12,56,67'''"
   ]
  },
  {
   "cell_type": "code",
   "execution_count": 21,
   "metadata": {},
   "outputs": [
    {
     "data": {
      "text/plain": [
       "['Student,OOP,CALD,LA,COMM,Isl,ED']"
      ]
     },
     "execution_count": 21,
     "metadata": {},
     "output_type": "execute_result"
    }
   ],
   "source": [
    "t1 = []\n",
    "t1.append(val.split('\\n')[0])\n",
    "t1\n",
    "res = [t1]"
   ]
  },
  {
   "cell_type": "code",
   "execution_count": 32,
   "metadata": {},
   "outputs": [],
   "source": [
    "res = []\n",
    "for line in val.split('\\n'):\n",
    "    \n",
    "    temp = []\n",
    "    temp.append(line)\n",
    "    res.append(temp) "
   ]
  },
  {
   "cell_type": "code",
   "execution_count": 33,
   "metadata": {},
   "outputs": [
    {
     "data": {
      "text/plain": [
       "[['Student,OOP,CALD,LA,COMM,Isl,ED'],\n",
       " ['Student 1,23,67,90,12,45,78'],\n",
       " ['Student 2,56,34,78,90,23,67'],\n",
       " ['Student 3,89,56,78,34,90,12'],\n",
       " ['Student 4,45,78,23,67,12,56'],\n",
       " ['Student 5,78,23,45,90,67,34'],\n",
       " ['Student 6,12,90,56,78,34,23'],\n",
       " ['Student 7,34,45,12,56,23,78'],\n",
       " ['Student 8,67,89,23,45,78,56'],\n",
       " ['Student 9,90,12,45,78,56,67'],\n",
       " ['Student 10,23,78,56,12,90,45'],\n",
       " ['Student 11,45,67,12,34,56,90'],\n",
       " ['Student 12,78,56,90,23,12,45'],\n",
       " ['Student 13,34,23,67,45,78,56'],\n",
       " ['Student 14,67,90,45,56,23,78'],\n",
       " ['Student 15,12,45,78,67,90,34'],\n",
       " ['Student 16,56,67,23,90,12,78'],\n",
       " ['Student 17,78,12,34,23,45,67'],\n",
       " ['Student 18,90,34,56,78,67,12'],\n",
       " ['Student 19,23,78,12,45,56,90'],\n",
       " ['Student 20,45,56,23,78,90,34'],\n",
       " ['Student 21,78,45,67,12,34,56'],\n",
       " ['Student 22,12,23,90,67,45,78'],\n",
       " ['Student 23,34,90,56,78,67,23'],\n",
       " ['Student 24,67,56,12,34,45,90'],\n",
       " ['Student 25,90,34,78,12,56,67'],\n",
       " ['Student 26,23,45,56,67,78,90'],\n",
       " ['Student 27,45,78,34,56,23,67'],\n",
       " ['Student 28,78,67,90,12,45,56'],\n",
       " ['Student 29,90,56,23,34,67,45'],\n",
       " ['Student 30,12,23,67,78,56,45'],\n",
       " ['Student 31,34,12,56,90,45,67'],\n",
       " ['Student 32,67,56,45,34,23,78'],\n",
       " ['Student 33,90,45,23,67,78,56'],\n",
       " ['Student 34,23,78,12,56,90,45'],\n",
       " ['Student 35,45,67,34,12,23,78'],\n",
       " ['Student 36,78,23,56,90,12,67'],\n",
       " ['Student 37,12,67,56,23,78,45'],\n",
       " ['Student 38,34,45,78,56,12,67'],\n",
       " ['Student 39,67,56,45,78,23,12'],\n",
       " ['Student 40,90,45,78,12,56,67']]"
      ]
     },
     "execution_count": 33,
     "metadata": {},
     "output_type": "execute_result"
    }
   ],
   "source": [
    "res"
   ]
  },
  {
   "cell_type": "code",
   "execution_count": 36,
   "metadata": {},
   "outputs": [
    {
     "data": {
      "text/plain": [
       "array([['Student,OOP,CALD,LA,COMM,Isl,ED'],\n",
       "       ['Student 1,23,67,90,12,45,78'],\n",
       "       ['Student 2,56,34,78,90,23,67'],\n",
       "       ['Student 3,89,56,78,34,90,12'],\n",
       "       ['Student 4,45,78,23,67,12,56'],\n",
       "       ['Student 5,78,23,45,90,67,34'],\n",
       "       ['Student 6,12,90,56,78,34,23'],\n",
       "       ['Student 7,34,45,12,56,23,78'],\n",
       "       ['Student 8,67,89,23,45,78,56'],\n",
       "       ['Student 9,90,12,45,78,56,67'],\n",
       "       ['Student 10,23,78,56,12,90,45'],\n",
       "       ['Student 11,45,67,12,34,56,90'],\n",
       "       ['Student 12,78,56,90,23,12,45'],\n",
       "       ['Student 13,34,23,67,45,78,56'],\n",
       "       ['Student 14,67,90,45,56,23,78'],\n",
       "       ['Student 15,12,45,78,67,90,34'],\n",
       "       ['Student 16,56,67,23,90,12,78'],\n",
       "       ['Student 17,78,12,34,23,45,67'],\n",
       "       ['Student 18,90,34,56,78,67,12'],\n",
       "       ['Student 19,23,78,12,45,56,90'],\n",
       "       ['Student 20,45,56,23,78,90,34'],\n",
       "       ['Student 21,78,45,67,12,34,56'],\n",
       "       ['Student 22,12,23,90,67,45,78'],\n",
       "       ['Student 23,34,90,56,78,67,23'],\n",
       "       ['Student 24,67,56,12,34,45,90'],\n",
       "       ['Student 25,90,34,78,12,56,67'],\n",
       "       ['Student 26,23,45,56,67,78,90'],\n",
       "       ['Student 27,45,78,34,56,23,67'],\n",
       "       ['Student 28,78,67,90,12,45,56'],\n",
       "       ['Student 29,90,56,23,34,67,45'],\n",
       "       ['Student 30,12,23,67,78,56,45'],\n",
       "       ['Student 31,34,12,56,90,45,67'],\n",
       "       ['Student 32,67,56,45,34,23,78'],\n",
       "       ['Student 33,90,45,23,67,78,56'],\n",
       "       ['Student 34,23,78,12,56,90,45'],\n",
       "       ['Student 35,45,67,34,12,23,78'],\n",
       "       ['Student 36,78,23,56,90,12,67'],\n",
       "       ['Student 37,12,67,56,23,78,45'],\n",
       "       ['Student 38,34,45,78,56,12,67'],\n",
       "       ['Student 39,67,56,45,78,23,12'],\n",
       "       ['Student 40,90,45,78,12,56,67']], dtype='<U31')"
      ]
     },
     "execution_count": 36,
     "metadata": {},
     "output_type": "execute_result"
    }
   ],
   "source": [
    "fin = np.array(res)\n",
    "fin"
   ]
  },
  {
   "cell_type": "code",
   "execution_count": 35,
   "metadata": {},
   "outputs": [
    {
     "data": {
      "text/plain": [
       "array([['Student,OOP,CALD,LA,COMM,Isl,ED', 'Student 1,23,67,90,12,45,78',\n",
       "        'Student 2,56,34,78,90,23,67', 'Student 3,89,56,78,34,90,12',\n",
       "        'Student 4,45,78,23,67,12,56', 'Student 5,78,23,45,90,67,34',\n",
       "        'Student 6,12,90,56,78,34,23', 'Student 7,34,45,12,56,23,78',\n",
       "        'Student 8,67,89,23,45,78,56', 'Student 9,90,12,45,78,56,67',\n",
       "        'Student 10,23,78,56,12,90,45', 'Student 11,45,67,12,34,56,90',\n",
       "        'Student 12,78,56,90,23,12,45', 'Student 13,34,23,67,45,78,56',\n",
       "        'Student 14,67,90,45,56,23,78', 'Student 15,12,45,78,67,90,34',\n",
       "        'Student 16,56,67,23,90,12,78', 'Student 17,78,12,34,23,45,67',\n",
       "        'Student 18,90,34,56,78,67,12', 'Student 19,23,78,12,45,56,90',\n",
       "        'Student 20,45,56,23,78,90,34', 'Student 21,78,45,67,12,34,56',\n",
       "        'Student 22,12,23,90,67,45,78', 'Student 23,34,90,56,78,67,23',\n",
       "        'Student 24,67,56,12,34,45,90', 'Student 25,90,34,78,12,56,67',\n",
       "        'Student 26,23,45,56,67,78,90', 'Student 27,45,78,34,56,23,67',\n",
       "        'Student 28,78,67,90,12,45,56', 'Student 29,90,56,23,34,67,45',\n",
       "        'Student 30,12,23,67,78,56,45', 'Student 31,34,12,56,90,45,67',\n",
       "        'Student 32,67,56,45,34,23,78', 'Student 33,90,45,23,67,78,56',\n",
       "        'Student 34,23,78,12,56,90,45', 'Student 35,45,67,34,12,23,78',\n",
       "        'Student 36,78,23,56,90,12,67', 'Student 37,12,67,56,23,78,45',\n",
       "        'Student 38,34,45,78,56,12,67', 'Student 39,67,56,45,78,23,12',\n",
       "        'Student 40,90,45,78,12,56,67']], dtype='<U31')"
      ]
     },
     "execution_count": 35,
     "metadata": {},
     "output_type": "execute_result"
    }
   ],
   "source": [
    "fin.T"
   ]
  },
  {
   "cell_type": "code",
   "execution_count": null,
   "metadata": {},
   "outputs": [],
   "source": []
  }
 ],
 "metadata": {
  "kernelspec": {
   "display_name": "Python 3",
   "language": "python",
   "name": "python3"
  },
  "language_info": {
   "codemirror_mode": {
    "name": "ipython",
    "version": 3
   },
   "file_extension": ".py",
   "mimetype": "text/x-python",
   "name": "python",
   "nbconvert_exporter": "python",
   "pygments_lexer": "ipython3",
   "version": "3.11.4"
  },
  "orig_nbformat": 4
 },
 "nbformat": 4,
 "nbformat_minor": 2
}
